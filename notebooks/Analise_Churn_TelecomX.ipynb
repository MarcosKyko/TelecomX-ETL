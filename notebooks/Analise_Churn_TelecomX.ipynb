{
 "cells": [
  {
   "cell_type": "markdown",
   "metadata": {
    "id": "oS6bzmexw991"
   },
   "source": [
    "# CHALLENGE TELECOM X - PARTE 1"
   ]
  },
  {
   "cell_type": "markdown",
   "metadata": {
    "id": "X_DKsUnSxHm9"
   },
   "source": [
    "**Objetivo: Investigar o CHURN DE CLIENTES**\n",
    "\n",
    "A Telecom X é uma empresa de telecomunicações e a equipe de TI precisa analisar o Churn de Clientes, que está elevado."
   ]
  },
  {
   "cell_type": "markdown",
   "metadata": {
    "id": "VArQ2SMIxqqt"
   },
   "source": [
    "## 1 - Buscar, tratar e realizar uma análise exploratoria dos dados de cliente.\n",
    "\n",
    "A) Buscar a base de dados com as informações originais, diretamente da API.\n",
    "\n",
    "B) Fazer uma análise exploratória inicial.\n",
    "\n",
    "C) Identificar dados nulos e fazer o tratamento.\n"
   ]
  },
  {
   "cell_type": "markdown",
   "metadata": {
    "id": "uQKOjv-qzhYX"
   },
   "source": [
    "### 1.1 - Carregar Base de Dados.\n",
    "\n",
    "Arquivo está no formato JSON.\n",
    "\n",
    "Primeiro, carregar as bibliotecas que serão utilizadas no projeto."
   ]
  },
  {
   "cell_type": "code",
   "execution_count": null,
   "metadata": {
    "id": "NHQWCUbbw0vv"
   },
   "outputs": [],
   "source": [
    "# Importar bibliotecas a serem utilizadas no projeto.\n",
    "import pandas as pd\n",
    "import json\n",
    "import numpy as np\n",
    "import matplotlib.pyplot as plt\n",
    "import seaborn as sns\n",
    "from pathlib import Path\n",
    "import pandas as pd\n",
    "import os"
   ]
  },
  {
   "cell_type": "markdown",
   "metadata": {
    "id": "tAWBqjXg1nRs"
   },
   "source": [
    "Carregar a base de dados, através de referenciamento ao endereço no GitHub.\n",
    "\n",
    "Tratar o aninhamento de colunas."
   ]
  },
  {
   "cell_type": "code",
   "execution_count": null,
   "metadata": {
    "colab": {
     "base_uri": "https://localhost:8080/",
     "height": 293
    },
    "id": "x4dAVYH31k2i",
    "outputId": "72e904a0-5cc1-46b8-bbd0-4cefbbb89ca2"
   },
   "outputs": [],
   "source": [
    "# Fazer a primeira carga dos dados.\n",
    "caminho_base = Path.cwd().parent\n",
    "origem = caminho_base / \"data\" / \"raw\" / \"TelecomX_Data.JSON\"\n",
    "dados = pd.read_json(origem)\n",
    "dados.head()"
   ]
  },
  {
   "cell_type": "code",
   "execution_count": null,
   "metadata": {
    "colab": {
     "base_uri": "https://localhost:8080/",
     "height": 325
    },
    "id": "p6yvYF2l2g57",
    "outputId": "29d9e342-493c-462b-a693-666f892d6808"
   },
   "outputs": [],
   "source": [
    "# Normalização (desaninhar) mantendo \"index\", \"customerID\", \"Churn\" como metadados\n",
    "dados_normal = pd.json_normalize(\n",
    "    dados.to_dict(orient='records'),\n",
    "    meta = [\"index\", \"customerID\", \"Churn\"],\n",
    "    sep=\"_\"\n",
    ")\n",
    "\n",
    "dados_normal.head()"
   ]
  },
  {
   "cell_type": "markdown",
   "metadata": {
    "id": "Nc93F671xZMD"
   },
   "source": [
    "### 1.2 - DataFrame normalizado, fazer a exploração inicial dos dados.\n",
    "\n",
    "Verificar:\n",
    "\n",
    "* valores nulos;\n",
    "\n",
    "* valores em branco (vazios);\n",
    "\n",
    "* outros possíveis erros (duplicados, inconsistências)"
   ]
  },
  {
   "cell_type": "markdown",
   "metadata": {
    "id": "ZX66Gg8VtdNw"
   },
   "source": [
    "#### 1.2.1 - **Dicionário de dados original.**\n",
    "*   customerID: número de identificação único de cada cliente\n",
    "*   Churn: se o cliente deixou ou não a empresa\n",
    "*   gender: gênero (masculino e feminino)\n",
    "*   SeniorCitizen: informação sobre um cliente ter ou não idade igual ou maior que 65 anos\n",
    "*   Partner: se o cliente possui ou não um parceiro ou parceira\n",
    "*   Dependents: se o cliente possui ou não dependentes\n",
    "*   tenure: meses de contrato do cliente\n",
    "*   PhoneService: assinatura de serviço telefônico\n",
    "*   MultipleLines: assinatura de mais de uma linha de telefone\n",
    "*   InternetService: assinatura de um provedor internet\n",
    "*   OnlineSecurity: assinatura adicional de segurança online\n",
    "*   OnlineBackup: assinatura adicional de backup online\n",
    "*   DeviceProtection: assinatura adicional de proteção no dispositivo\n",
    "*   TechSupport: assinatura adicional de suporte técnico, menos tempo de espera\n",
    "*   StreamingTV: assinatura de TV a cabo\n",
    "*   StreamingMovies: assinatura de streaming de filmes\n",
    "*   Contract: tipo de contrato\n",
    "*   PaperlessBilling: se o cliente prefere receber online a fatura\n",
    "*   PaymentMethod: forma de pagamento\n",
    "*   Charges.Monthly: total de todos os serviços do cliente por mês\n",
    "*   Charges.Total: total gasto pelo cliente"
   ]
  },
  {
   "cell_type": "markdown",
   "metadata": {
    "id": "QyjBm-iFlgXO"
   },
   "source": [
    "#### 1.2.2 - Verificar valores únicos por coluna.\n"
   ]
  },
  {
   "cell_type": "code",
   "execution_count": null,
   "metadata": {
    "colab": {
     "base_uri": "https://localhost:8080/"
    },
    "id": "fH43fqI6MYMw",
    "outputId": "cee6a89c-e321-460f-cbb0-354a11b23a37"
   },
   "outputs": [],
   "source": [
    "# Conferência de valores únicos por coluna.\n",
    "print(\"\\n--- Valores únicos por coluna ---\")\n",
    "\n",
    "for coluna in dados_normal.columns:\n",
    "    valores_unicos = dados_normal[coluna].nunique()\n",
    "    print(f'\\n* Coluna \"{coluna}\": {valores_unicos}')\n",
    "    if valores_unicos < 10:\n",
    "      print(dados_normal[coluna].unique())\n",
    "\n",
    "    print(\"-\" * 60)"
   ]
  },
  {
   "cell_type": "markdown",
   "metadata": {
    "id": "Hlr6yCQ4V68N"
   },
   "source": [
    "#### 1.2.3 - Verificar Linhas Duplicadas."
   ]
  },
  {
   "cell_type": "code",
   "execution_count": null,
   "metadata": {
    "colab": {
     "base_uri": "https://localhost:8080/"
    },
    "id": "uJG04qaXrw6Z",
    "outputId": "b3a9c50f-95f0-4498-cf5b-9158064c8976"
   },
   "outputs": [],
   "source": [
    "# Verificar se existem linhas duplicadas.\n",
    "duplicados = dados_normal.duplicated().sum()\n",
    "print(f\"--> Total de linhas COMPLETAMENTE duplicadas: {duplicados}\\n\")\n"
   ]
  },
  {
   "cell_type": "markdown",
   "metadata": {
    "id": "Ijb3wB0rWAit"
   },
   "source": [
    "#### 1.2.4 - Checar Valores Nulos."
   ]
  },
  {
   "cell_type": "code",
   "execution_count": null,
   "metadata": {
    "colab": {
     "base_uri": "https://localhost:8080/"
    },
    "id": "oHN8vdZVy_N7",
    "outputId": "e41b9c0f-63b2-4012-e69b-41898b1afa3d"
   },
   "outputs": [],
   "source": [
    "# Checar valores nulos por coluna.\n",
    "valores_nulos = dados_normal.isnull().values.sum()\n",
    "print(f\"--> Total valores nulos por coluna: {valores_nulos}\\n\")"
   ]
  },
  {
   "cell_type": "markdown",
   "metadata": {
    "id": "98Yy-AxoWJMY"
   },
   "source": [
    "#### 1.2.5 - Verificar Valores em Branco, Vazios ou Espaços."
   ]
  },
  {
   "cell_type": "code",
   "execution_count": null,
   "metadata": {
    "colab": {
     "base_uri": "https://localhost:8080/"
    },
    "id": "myvlVhkC3-xi",
    "outputId": "b63a614c-0455-48e9-d309-1cae58a0c1b5"
   },
   "outputs": [],
   "source": [
    "print(\"Checar Valores em Branco, Vazios ou Espaço por Coluna:\\n\")\n",
    "\n",
    "for coluna in dados_normal.columns:\n",
    "    # Verifica apenas colunas do tipo 'object' (texto)\n",
    "    if dados_normal[coluna].dtype == \"object\":\n",
    "        vazios = (dados_normal[coluna].str.strip() == \"\").sum()\n",
    "\n",
    "        # Mostra apenas se houver strings vazias\n",
    "        if vazios > 0:\n",
    "            total = len(dados_normal[coluna])\n",
    "            percentual_vazios = (vazios / total) * 100\n",
    "            print(f\"Coluna '{coluna}':\")\n",
    "            print(f\"- Strings vazias (''): {vazios} ({percentual_vazios:.2f}%)\\n\")"
   ]
  },
  {
   "cell_type": "markdown",
   "metadata": {
    "id": "Q8cNe4p4RCnq"
   },
   "source": [
    "### 1.3 - **Dar tratamento às inconsistências identificadas.**"
   ]
  },
  {
   "cell_type": "code",
   "execution_count": null,
   "metadata": {
    "colab": {
     "base_uri": "https://localhost:8080/"
    },
    "id": "fP_blHtXRNRC",
    "outputId": "c4375a29-3c24-4c81-c4ad-d776f4123758"
   },
   "outputs": [],
   "source": [
    "# Transformar a coluna \"account_Charges_Total\" de string para float.\n",
    "\n",
    "dados_normal[\"account_Charges_Total\"] = pd.to_numeric(\n",
    "    dados_normal[\"account_Charges_Total\"],\n",
    "    errors = \"coerce\"\n",
    ")\n",
    "\n",
    "\n",
    "print(f'Coluna \"account_Charges_Total\": {dados_normal[\"account_Charges_Total\"].dtype}.')"
   ]
  },
  {
   "cell_type": "code",
   "execution_count": null,
   "metadata": {
    "colab": {
     "base_uri": "https://localhost:8080/"
    },
    "id": "QeCDexpJasWF",
    "outputId": "38e373f7-c34b-426c-a3f6-6da23379eb0f"
   },
   "outputs": [],
   "source": [
    "# Conferir como ficaram os espaços em branco, depois da conversão.\n",
    "ex_espacos = dados_normal[dados_normal[\"account_Charges_Total\"].astype(str).str.strip() == \"\"]\n",
    "print(f\"Ex-espaços em branco:\\n{ex_espacos[['account_Charges_Total']]}\")\n",
    "print(f\"\\nTotal: {len(ex_espacos)} → Convertidos para NaN\")"
   ]
  },
  {
   "cell_type": "code",
   "execution_count": null,
   "metadata": {
    "colab": {
     "base_uri": "https://localhost:8080/"
    },
    "id": "I_fDTlxk0jnB",
    "outputId": "c3ee56ae-8ba9-475f-a550-c3b48327c1a6"
   },
   "outputs": [],
   "source": [
    "# Excluir as linhas em branco, na coluna \"Churn\"\n",
    "print(f\"Linhas antes: {len(dados_normal)}\")\n",
    "\n",
    "dados_normal = dados_normal[~dados_normal[\"Churn\"].str.strip().isin([\"\", \" \"])]\n",
    "\n",
    "print(f\"Linhas depois: {len(dados_normal)}\")"
   ]
  },
  {
   "cell_type": "code",
   "execution_count": null,
   "metadata": {
    "colab": {
     "base_uri": "https://localhost:8080/"
    },
    "id": "CRKaz8Q49Cku",
    "outputId": "7be643bf-e0a2-4600-c453-d538e561e834"
   },
   "outputs": [],
   "source": [
    "# Conferir se há algum campo em branco ou com espaço.\n",
    "campos_vazios = dados_normal.apply(\n",
    "    lambda col: col.astype(str).str.strip().isin([\"\", \" \"]).sum()\n",
    ")\n",
    "\n",
    "print(campos_vazios)"
   ]
  },
  {
   "cell_type": "markdown",
   "metadata": {
    "id": "0puaKWmQWzLM"
   },
   "source": [
    "### 1.4 - Incluir coluna Charges Daily.\n",
    "\n",
    "*Critério:* (Charges_Monthly / 30)\n",
    "\n",
    "Usar a coluna de Charges_Total pode trazer distorções para os contratos Long Term, já que carregam a somatória de todo o período do contrato, com possíveis situações diferenciadas do período atual em análise."
   ]
  },
  {
   "cell_type": "code",
   "execution_count": null,
   "metadata": {
    "colab": {
     "base_uri": "https://localhost:8080/"
    },
    "id": "ufJMMelHAV0V",
    "outputId": "c7c95fa1-0d19-45e2-a022-708dacfb4dd4"
   },
   "outputs": [],
   "source": [
    "# Incluir coluna de contas diárias (Charges Daily)\n",
    "dados_normal.insert(loc=19,\n",
    "                    column=\"account_Charges_Daily\",\n",
    "                    value=round(dados_normal[\"account_Charges_Monthly\"] / 30, 2))\n",
    "\n",
    "print(\"\\nColunas após inserção:\")\n",
    "print(dados_normal.columns.tolist())\n",
    "print(\"\\nPrimeiros valores da nova coluna:\")\n",
    "print(dados_normal[\"account_Charges_Daily\"].head())"
   ]
  },
  {
   "cell_type": "code",
   "execution_count": null,
   "metadata": {
    "colab": {
     "base_uri": "https://localhost:8080/"
    },
    "id": "bbp7PBDzyXUH",
    "outputId": "a2d7110e-e969-420e-a004-549eb3a24f8f"
   },
   "outputs": [],
   "source": [
    "# Conferir como ficou o dataframe nesta parte.\n",
    "print(dados_normal.info())\n"
   ]
  },
  {
   "cell_type": "markdown",
   "metadata": {
    "id": "S18AoRvqYFkm"
   },
   "source": [
    "### 1.5 - Corrigir coluna \"account_Charges_Total.\n",
    "\n",
    "Coluna \"account_Charges_Total\" está com 7.032 registros, 11 a menos que as outras colunas do dataframe.\n",
    "\n",
    "Verificar o que ocorreu, e consertar.\n",
    "\n",
    "*Hipótese*: são clientes novos, que entraram na Telecom X no período em análise, já que o tempo de permanência desses cliente ainda é 0 meses. Se o tempo de permanência fosse em dias, a dedução seria mais fácil.\n",
    "Poderíamos replicar o valor mensal para o valor total que estaria correto, mas a base de permanência seria diferente e teríamos uma variável com 0, e em algum momento pode gerar um erro.\n",
    "\n",
    "**Ação**: remover as linhas com Charges_Total igual a 0, já que não terão impacto significativo nas previsões a serem realizadas."
   ]
  },
  {
   "cell_type": "code",
   "execution_count": null,
   "metadata": {
    "colab": {
     "base_uri": "https://localhost:8080/"
    },
    "id": "OB_ljKZSBznM",
    "outputId": "3a7f8b3b-c286-43ef-d96a-e805536fbd41"
   },
   "outputs": [],
   "source": [
    "# Filtrar linhas onde 'account_Charges_Total' é nulo\n",
    "linhas_faltantes = dados_normal[dados_normal[\"account_Charges_Total\"].isnull()]\n",
    "\n",
    "# Mostrar amostra dessas linhas (e colunas relevantes)\n",
    "print(\"Linhas com 'account_Charges_Total' faltante:\")\n",
    "print(linhas_faltantes[[\"Churn\", \"customer_tenure\", \"account_Contract\", \"account_Charges_Monthly\", \"account_Charges_Total\"]].head(11))\n",
    "\n",
    "# Verificar se há padrão (ex: são clientes novos? cancelados?)\n",
    "print(\"\\nContagem por status:\")\n",
    "print(linhas_faltantes[\"Churn\"].value_counts())"
   ]
  },
  {
   "cell_type": "code",
   "execution_count": null,
   "metadata": {
    "colab": {
     "base_uri": "https://localhost:8080/"
    },
    "id": "I_6t9FzAGuey",
    "outputId": "7f295227-8c42-48da-a6f1-06e86aff4706"
   },
   "outputs": [],
   "source": [
    "# Remove as linhas com \"account_Charges_Total\" igual a NaN.\n",
    "dados_normal = dados_normal.dropna(subset=[\"account_Charges_Total\"])\n",
    "\n",
    "# Verificação\n",
    "print(f\"Linhas restantes: {len(dados_normal)}\")\n",
    "print(f\"Novos nulos em 'account_Charges_Total': {dados_normal['account_Charges_Total'].isnull().sum()}\")"
   ]
  },
  {
   "cell_type": "code",
   "execution_count": null,
   "metadata": {
    "colab": {
     "base_uri": "https://localhost:8080/"
    },
    "id": "XC2oHfswG8FA",
    "outputId": "1edbcedb-f627-404d-dabc-8ab878244620"
   },
   "outputs": [],
   "source": [
    "# Conferir como ficou o dataframe depois do ajuste em \"account_Charges_Total\".\n",
    "print(dados_normal.info())\n"
   ]
  },
  {
   "cell_type": "markdown",
   "metadata": {
    "id": "BpJNuQ2ubjCC"
   },
   "source": [
    "## 2 - Padronização e Transformação dos dados.\n",
    "\n",
    "* 1 - Transformar as colunas binárias.\n",
    "* 2 - Transformar as colunas terciárias.\n",
    "* 3 - Alterar o nome das colunas (variáveis).\n",
    "* 4 - Atualizar o dicionário de dados."
   ]
  },
  {
   "cell_type": "code",
   "execution_count": null,
   "metadata": {
    "colab": {
     "base_uri": "https://localhost:8080/"
    },
    "id": "tdR23sCSzHe0",
    "outputId": "6b043047-08ed-4594-e52e-a030aa8ce277"
   },
   "outputs": [],
   "source": [
    "# Segunda conferência valores únicos por coluna.\n",
    "print(\"\\n--- Valores únicos por coluna ---\")\n",
    "\n",
    "for coluna in dados_normal.columns:\n",
    "    valores_unicos = dados_normal[coluna].nunique()\n",
    "    print(f'\\n* Coluna \"{coluna}\": {valores_unicos}')\n",
    "    if valores_unicos < 10:\n",
    "      print(dados_normal[coluna].unique())\n",
    "\n",
    "    print(\"-\" * 60)"
   ]
  },
  {
   "cell_type": "markdown",
   "metadata": {
    "id": "wJ885p5EcAXC"
   },
   "source": [
    "### 2.1 - Transformar Colunas Binárias.\n",
    "\n",
    "*Critério*: padrão utilizado para algoritmos de Machine Learning.\n",
    "\n",
    "| <div align=\"left\">Condição</div> | <div align=\"left\">Codificação</div> |  \n",
    "|----------------------------------|-------------------------------------|    \n",
    "|`No` (Não)     | `0` |  \n",
    "|`Yes` (Sim)    | `1` |"
   ]
  },
  {
   "cell_type": "code",
   "execution_count": null,
   "metadata": {
    "colab": {
     "base_uri": "https://localhost:8080/"
    },
    "id": "01UdyuLJ54TK",
    "outputId": "b5b7473b-a2be-4d1b-85a9-d98242c3cb94"
   },
   "outputs": [],
   "source": [
    "# Dicionário de mapeamento (padrão ML).\n",
    "mapeamento_binario = {\n",
    "    \"Yes\": 1,    # Evento de interesse = 1\n",
    "    \"No\": 0\n",
    "}\n",
    "\n",
    "# Aplicar para as colunas binárias:\n",
    "colunas_binarias = [\"Churn\", \"customer_Partner\", \"customer_Dependents\",\n",
    "                    \"phone_PhoneService\", \"account_PaperlessBilling\"]\n",
    "for coluna in colunas_binarias:\n",
    "    if coluna in dados_normal.columns:\n",
    "        dados_normal[coluna] = dados_normal[coluna].replace(mapeamento_binario)\n",
    "\n",
    "# Verificação\n",
    "print(dados_normal[colunas_binarias].head())"
   ]
  },
  {
   "cell_type": "markdown",
   "metadata": {
    "id": "8XHtzOmycQ87"
   },
   "source": [
    "### 2.2 - Transformar Colunas Terciárias.\n",
    "\n",
    "*Critério*: codificação ordinal pela dependência hierárquica das variáveis que originam cada coluna em tratamento.\n",
    "\n",
    "| <div align=\"left\">Condição</div> | <div align=\"left\">Codificação</div> |  \n",
    "|----------------------------------|---------------------------------------|  \n",
    "|`phone_PhoneService = 0` (No)     | `phone_MultipleLines = 0` |  \n",
    "|`phone_PhoneService = 1` (Yes)    | `phone_MultipleLines = 1` ou `2` |\n",
    "\n"
   ]
  },
  {
   "cell_type": "code",
   "execution_count": null,
   "metadata": {
    "colab": {
     "base_uri": "https://localhost:8080/"
    },
    "id": "_hLP2oAx62Rd",
    "outputId": "59aae024-9fa8-4fc1-a577-3ea609a89ad7"
   },
   "outputs": [],
   "source": [
    "# Transformar colunas terciárias.\n",
    "terciarias = {\n",
    "    \"phone_MultipleLines\": {\"No phone service\": 0, \"No\": 1, \"Yes\": 2}\n",
    "}\n",
    "\n",
    "# Aplica todas as transformações.\n",
    "for coluna, mapeamento in terciarias.items():\n",
    "    dados_normal[coluna] = dados_normal[coluna].map(mapeamento)\n",
    "\n",
    "# Verifica consistência.\n",
    "for coluna in terciarias:\n",
    "    binaria_correspondente = \"phone_PhoneService\" if \"phone\" in coluna else \"internet_Service\"\n",
    "    print(f\"\\nConsistência entre {coluna} e {binaria_correspondente}:\")\n",
    "    print(dados_normal.groupby(binaria_correspondente)[coluna].value_counts())"
   ]
  },
  {
   "cell_type": "markdown",
   "metadata": {
    "id": "2wry81mNqL8o"
   },
   "source": [
    "Variável \"InternetService\" e suas derivadas: \"internet_OnlineSecurity\", \"internet_OnlineBackup\", \"internet_DeviceProtection\", \"internet_TechSupport\", \"internet_StreamingTV\", \"internet_StreamingMovies\".\n",
    "\n",
    "*Critério*: codificação ordinal pela dependência hierárquica das variáveis que originam cada coluna em tratamento.\n"
   ]
  },
  {
   "cell_type": "code",
   "execution_count": null,
   "metadata": {
    "colab": {
     "base_uri": "https://localhost:8080/"
    },
    "id": "_gQ1rwzGIR1y",
    "outputId": "6629249b-48af-4d34-db64-5d6894267852"
   },
   "outputs": [],
   "source": [
    "# Mapeamento principal:\n",
    "mapeamento_internet = {\n",
    "    \"No\": 0,              # Não tem internet.\n",
    "    \"DSL\": 1,             # Internet básica (DSL).\n",
    "    \"Fiber optic\": 2      # Internet premium (Fibra).\n",
    "}\n",
    "\n",
    "# Aplica transformação\n",
    "dados_normal[\"internet_InternetService\"] = dados_normal[\"internet_InternetService\"].map(mapeamento_internet)\n",
    "\n",
    "# Verificação\n",
    "print(\"\\nContagem após transformação:\")\n",
    "print(dados_normal[\"internet_InternetService\"].value_counts())\n",
    "\n"
   ]
  },
  {
   "cell_type": "code",
   "execution_count": null,
   "metadata": {
    "colab": {
     "base_uri": "https://localhost:8080/"
    },
    "id": "WtiP1ZdIJzhH",
    "outputId": "f0c93c06-daae-4899-9f3f-49702b6f4b46"
   },
   "outputs": [],
   "source": [
    "# Checar se os clientes que não tem Internet Service (0), tem Phone Service (1)\n",
    "\n",
    "# Filtra clientes SEM internet (internet_InternetService = 0)\n",
    "clientes_sem_internet = dados_normal[dados_normal[\"internet_InternetService\"] == 0]\n",
    "\n",
    "# Contagem do serviço de telefone nesse grupo\n",
    "print(\"Clientes SEM internet - Contagem de phone_PhoneService:\")\n",
    "print(clientes_sem_internet[\"phone_PhoneService\"].value_counts())\n",
    "\n",
    "# Verifica se há inconsistências (ex: phone_PhoneService = 1 mas internet = 0)\n",
    "inconsistencias = dados_normal[\n",
    "    (dados_normal[\"internet_InternetService\"] == 0) &\n",
    "    (dados_normal[\"phone_PhoneService\"] == 1)  # Tem telefone mas não tem internet?\n",
    "]\n",
    "\n",
    "print(\"\\nLinhas inconsistentes (internet = 0 mas phone = 1):\", len(inconsistencias))\n",
    "if len(inconsistencias) > 0:\n",
    "    print(inconsistencias[[\"internet_InternetService\", \"phone_PhoneService\"]].head())"
   ]
  },
  {
   "cell_type": "markdown",
   "metadata": {
    "id": "LsLVf3RrK672"
   },
   "source": [
    "**É possível um cliente ter phone_PhoneService = 1 (tem telefone) mas internet_InternetService = 0 (não tem internet)?**\n",
    "\n",
    "Se não for possível, essas linhas devem ser corrigidas/excluídas.\n",
    "\n",
    "Se for possível, documentar a regra no dicionário de dados."
   ]
  },
  {
   "cell_type": "code",
   "execution_count": null,
   "metadata": {
    "id": "eIT7Rn78K6L9"
   },
   "outputs": [],
   "source": [
    "# Continuar transformação das colunas terciárias.\n",
    "# Lista de colunas terciárias derivadas.\n",
    "colunas_terciarias = [\n",
    "    \"internet_OnlineSecurity\",\n",
    "    \"internet_OnlineBackup\",\n",
    "    \"internet_DeviceProtection\",\n",
    "    \"internet_TechSupport\",\n",
    "    \"internet_StreamingTV\",\n",
    "    \"internet_StreamingMovies\"\n",
    "]\n",
    "\n",
    "# Aplica o mapeamento padrão e verifica dependência.\n",
    "for coluna in colunas_terciarias:\n",
    "    dados_normal[coluna] = dados_normal[coluna].map({\n",
    "        \"No internet service\": 0,\n",
    "        \"No\": 1,\n",
    "        \"Yes\": 2\n",
    "    })\n",
    "\n",
    "    # Checa consistência com internet_InternetService.\n",
    "    inconsistencias = dados_normal[\n",
    "        (dados_normal[\"internet_InternetService\"] == 0) &\n",
    "        (dados_normal[coluna] != 0)\n",
    "    ]\n",
    "    if not inconsistencias.empty:\n",
    "        print(f\"{len(inconsistencias)} inconsistências em {coluna}. Corrija antes de prosseguir!\")"
   ]
  },
  {
   "cell_type": "markdown",
   "metadata": {
    "id": "FqjSilQRsMgv"
   },
   "source": [
    "### 2.3 - Transformar Coluna \"account_Contract\".\n",
    "\n",
    "*Critério*: codificação numérica ordinal\n",
    "\n",
    "| Valor Original      | Código Numérico | Classificação de Fidelidade         |\n",
    "|---------------------|:---------------:|------------------------------------|\n",
    "| `Month-to-month`    | 0               | Short Term (Menos Fidelização)     |\n",
    "| `One year`          | 1               | Medium Term (Fidelidade Média)     |\n",
    "| `Two year`          | 2               | Long Term (Fidelidade Máxima)      |"
   ]
  },
  {
   "cell_type": "code",
   "execution_count": null,
   "metadata": {
    "colab": {
     "base_uri": "https://localhost:8080/"
    },
    "id": "IAY20unIOxRU",
    "outputId": "01322ec9-8fe4-47bf-d5f7-59c8bed89b27"
   },
   "outputs": [],
   "source": [
    "# TRANSFORMAÇÃO DA VARIÁVEL \"account_Contract\".\n",
    "# Mapeamento para valores numéricos ordinais\n",
    "mapeamento_contrato = {\n",
    "    \"Month-to-month\": 0,  # Menos Fidelização - Short Term.\n",
    "    \"One year\": 1,        # Fidelidade Média - Medium Term.\n",
    "    \"Two year\": 2         # Fidelidade Máxima - Long Term.\n",
    "}\n",
    "\n",
    "# Aplica a transformação\n",
    "dados_normal[\"account_Contract\"] = dados_normal[\"account_Contract\"].map(mapeamento_contrato)\n",
    "\n",
    "# Verificação\n",
    "print(\"\\nDistribuição dos contratos após transformação:\")\n",
    "print(dados_normal[\"account_Contract\"].value_counts().sort_index())"
   ]
  },
  {
   "cell_type": "code",
   "execution_count": null,
   "metadata": {
    "colab": {
     "base_uri": "https://localhost:8080/",
     "height": 209
    },
    "id": "5CFJ0wkuyHDD",
    "outputId": "f4488a95-b750-44f3-a0d6-ea318347fff7"
   },
   "outputs": [],
   "source": [
    "total = dados_normal[\"account_Contract\"].sum()\n",
    "percentuais = dados_normal[\"account_Contract\"].value_counts(normalize=True) * 100\n",
    "percentuais"
   ]
  },
  {
   "cell_type": "code",
   "execution_count": null,
   "metadata": {
    "colab": {
     "base_uri": "https://localhost:8080/"
    },
    "id": "5qrypODd0hA1",
    "outputId": "e622ee76-e2d4-495a-c32a-231bf3411966"
   },
   "outputs": [],
   "source": [
    "# Calcular total de Churn por tipo de contrato\n",
    "churn_por_contrato = dados_normal[dados_normal[\"Churn\"] == 1][\"account_Contract\"].value_counts().sort_index()\n",
    "\n",
    "# Resultado:\n",
    "print(\"Total de Churn por tipo de contrato:\")\n",
    "print(churn_por_contrato)"
   ]
  },
  {
   "cell_type": "code",
   "execution_count": null,
   "metadata": {
    "colab": {
     "base_uri": "https://localhost:8080/"
    },
    "id": "2KwPWCTW1ngQ",
    "outputId": "b341bf5a-268e-43b4-aabd-d4dba709584e"
   },
   "outputs": [],
   "source": [
    "churn_do_periodo = dados_normal[\"Churn\"].sum()\n",
    "churn_do_periodo"
   ]
  },
  {
   "cell_type": "markdown",
   "metadata": {
    "id": "9MQeXaGN3mQY"
   },
   "source": [
    "### 2.4 - Transformar Coluna \"account_PaymentMethod\".\n",
    "\n",
    "*Critério*: codificação numérica ordinal baseada no grau de automação do pagamento.\n",
    "\n",
    "| Método de Pagamento (Original)   | Código Numérico | Classificação        | Justificativa                                      |\n",
    "|----------------------------------|:---------------:|:-------------------:|---------------------------------------------------|\n",
    "| `Mailed check`                   | 0               | Manual              | Pagamento físico por correio.                      |\n",
    "| `Electronic check`               | 1               | Semi-automático     | Digital mas requer ação do cliente.                |\n",
    "| `Bank transfer (automatic)`      | 2               | Automático          | Débito automático via banco.                       |\n",
    "| `Credit card (automatic)`        | 3               | Automático Premium  | Pagamento automático com benefícios de cartão.     |\n"
   ]
  },
  {
   "cell_type": "code",
   "execution_count": null,
   "metadata": {
    "colab": {
     "base_uri": "https://localhost:8080/"
    },
    "id": "P6Y4eUwxTKkd",
    "outputId": "23953c00-591f-4988-c0a9-3d8506fd5b88"
   },
   "outputs": [],
   "source": [
    "# TRANSFORMAÇÃO DA VARIÁVEL \"account_PaymentMethod\".\n",
    "# Mapeamento para valores ordinais (0 a 3)\n",
    "mapeamento_pagamento = {\n",
    "    'Mailed check': 0,               # Menos automático\n",
    "    'Electronic check': 1,\n",
    "    'Bank transfer (automatic)': 2,\n",
    "    'Credit card (automatic)': 3     # Mais automático\n",
    "}\n",
    "\n",
    "dados_normal[\"account_PaymentMethod\"] = dados_normal[\"account_PaymentMethod\"].map(mapeamento_pagamento)\n",
    "\n",
    "# Verificação rápida\n",
    "print(\"\\nDistribuição após transformação:\")\n",
    "print(dados_normal[\"account_PaymentMethod\"].value_counts().sort_index())"
   ]
  },
  {
   "cell_type": "code",
   "execution_count": null,
   "metadata": {
    "colab": {
     "base_uri": "https://localhost:8080/"
    },
    "id": "yQPQx7-0UYxp",
    "outputId": "fbef709e-4e0f-4b72-e76e-7cb34d0f8a7b"
   },
   "outputs": [],
   "source": [
    "# Conferir método de pagamento com short term contract.\n",
    "# Filtrar só clientes month-to-month (account_Contract == 0)\n",
    "clientes_mes_a_mes = dados_normal[dados_normal[\"account_Contract\"] == 0]\n",
    "\n",
    "# Contagem de métodos de pagamento nesse grupo\n",
    "distribuicao_pagamento = clientes_mes_a_mes[\"account_PaymentMethod\"].value_counts().sort_index()\n",
    "\n",
    "# Taxa de Churn por método de pagamento (nesse grupo)\n",
    "taxa_churn = clientes_mes_a_mes.groupby(\"account_PaymentMethod\")[\"Churn\"].mean()\n",
    "\n",
    "# Resultado\n",
    "print(\"Distribuição de Pagamento (Month-to-Month):\")\n",
    "print(distribuicao_pagamento)\n",
    "print(\"\\nTaxa de Churn por Método (Month-to-Month):\")\n",
    "print(taxa_churn)"
   ]
  },
  {
   "cell_type": "code",
   "execution_count": null,
   "metadata": {
    "colab": {
     "base_uri": "https://localhost:8080/"
    },
    "id": "E1-QKk1lOJN6",
    "outputId": "2aa004cf-3ec8-40d9-eed6-9d6241788191"
   },
   "outputs": [],
   "source": [
    "# Conferência dos valores por variável, após as transformações.\n",
    "print(\"\\n--- Valores únicos por coluna ---\")\n",
    "\n",
    "for coluna in dados_normal.columns:\n",
    "    valores_unicos = dados_normal[coluna].nunique()\n",
    "    print(f'\\n* Coluna \"{coluna}\": {valores_unicos}')\n",
    "    if valores_unicos < 10:\n",
    "      print(dados_normal[coluna].unique())\n",
    "\n",
    "    print(\"-\" * 60)"
   ]
  },
  {
   "cell_type": "markdown",
   "metadata": {
    "id": "aGU6gZ-aO7nJ"
   },
   "source": [
    "### 2.5 - Alterar Nome das Colunas, para agilizar algoritmos de Machine Learning.\n",
    "\n",
    "Fazer alteração dos nomes das variáveis para melhor entendimento no processo de Machine Learning.\n",
    "\n"
   ]
  },
  {
   "cell_type": "code",
   "execution_count": null,
   "metadata": {
    "colab": {
     "base_uri": "https://localhost:8080/"
    },
    "id": "QBsbK2vPQCwc",
    "outputId": "6b443807-0052-4deb-be4c-8134173b1429"
   },
   "outputs": [],
   "source": [
    "# Dicionário de mapeamento (versão otimizada para ML)\n",
    "rename_dict = {\n",
    "    'customerID': 'customer_id',\n",
    "    'Churn': 'target_churn',\n",
    "    'customer_gender': 'gender',\n",
    "    'customer_SeniorCitizen': 'is_elderly',\n",
    "    'customer_Partner': 'has_partner',\n",
    "    'customer_Dependents': 'has_dependents',\n",
    "    'customer_tenure': 'tenure_months',\n",
    "    'phone_PhoneService': 'has_phone_service',\n",
    "    'phone_MultipleLines': 'has_multiple_lines',\n",
    "    'internet_InternetService': 'internet_service_type',\n",
    "    'internet_OnlineSecurity': 'has_online_security',\n",
    "    'internet_OnlineBackup': 'has_online_backup',\n",
    "    'internet_DeviceProtection': 'has_device_protection',\n",
    "    'internet_TechSupport': 'has_tech_support',\n",
    "    'internet_StreamingTV': 'uses_streaming_tv',\n",
    "    'internet_StreamingMovies': 'uses_streaming_movies',\n",
    "    'account_Contract': 'contract_term_months',\n",
    "    'account_PaperlessBilling': 'uses_paperless_billing',\n",
    "    'account_PaymentMethod': 'payment_method_type',\n",
    "    'account_Charges_Daily': 'daily_charges',\n",
    "    'account_Charges_Monthly': 'monthly_charges',\n",
    "    'account_Charges_Total': 'total_charges'\n",
    "}\n",
    "\n",
    "# Aplicar a renomeação\n",
    "dados_final = dados_normal.rename(columns = rename_dict)\n",
    "\n",
    "# Verificação rápida\n",
    "print(\"Colunas Renomeadas, ver amostra:\")\n",
    "print(dados_final.columns.tolist()[:5])  # Exibe as 5 primeiras para verificação\n"
   ]
  },
  {
   "cell_type": "code",
   "execution_count": null,
   "metadata": {
    "colab": {
     "base_uri": "https://localhost:8080/"
    },
    "id": "3PK5RIMegVKz",
    "outputId": "879d2e03-4b29-4451-e1de-bafe181cd2dd"
   },
   "outputs": [],
   "source": [
    "# Lista colunas originais que não foram mapeadas (deve retornar vazio)\n",
    "colunas_nao_mapeadas = set(dados_final.columns) & set(rename_dict.keys())\n",
    "if colunas_nao_mapeadas:\n",
    "    print(f\"Atenção: Estas colunas não foram renomeadas: {colunas_nao_mapeadas}\")\n",
    "else:\n",
    "    print(\"Todas as colunas foram renomeadas com sucesso!\")\n"
   ]
  },
  {
   "cell_type": "markdown",
   "metadata": {
    "id": "SSN-qIHLwA7U"
   },
   "source": [
    "### 2.6 - Gerar arquivo .csv para próxima etapa."
   ]
  },
  {
   "cell_type": "code",
   "execution_count": null,
   "metadata": {
    "id": "WQq8J5_zwDLu"
   },
   "outputs": [],
   "source": [
    "caminho_saida = Path(\"..\") / \"data\" / \"processed\" / \"dados_final.csv\"\n",
    "caminho_saida.parent.mkdir(parents=True, exist_ok=True)\n",
    "dados_final.to_csv(caminho_saida, index = False)"
   ]
  },
  {
   "cell_type": "markdown",
   "metadata": {
    "id": "vO-46U8nUQN7"
   },
   "source": [
    "## 3 - Visualizações para Analisar o Churn da Telecom X."
   ]
  },
  {
   "cell_type": "markdown",
   "metadata": {
    "id": "y4JeV49YUge8"
   },
   "source": [
    "### 3.1 - Taxa de Churn da Telecom X."
   ]
  },
  {
   "cell_type": "code",
   "execution_count": null,
   "metadata": {
    "colab": {
     "base_uri": "https://localhost:8080/",
     "height": 481
    },
    "id": "EQZOk1yIWoPq",
    "outputId": "16a6728f-26a4-4cd1-b4fa-a12e62c1d32c"
   },
   "outputs": [],
   "source": [
    "# Calcula a taxa global de Churn.\n",
    "total_clientes = len(dados_final)\n",
    "total_churn = dados_final[\"target_churn\"].sum()\n",
    "taxa_global = (total_churn / total_clientes) * 100\n",
    "\n",
    "# Gráfico Simples\n",
    "plt.figure(figsize = (8, 5))\n",
    "bars = plt.bar(\n",
    "    [\"Clientes No Churn\", \"Clientes que Deram Churn\"],\n",
    "    [(total_clientes - total_churn), total_churn],\n",
    "    color = [\"#3498db\", \"#e74c3c\"]\n",
    ")\n",
    "\n",
    "# Anotações\n",
    "plt.annotate(\n",
    "    f\"Taxa Global de Churn: {taxa_global:.1f}%\",\n",
    "    xy = (1, total_churn),\n",
    "    xytext = (-5 , 20),\n",
    "    textcoords = \"offset points\",\n",
    "    fontsize = 10,\n",
    "    ha =\"center\"\n",
    ")\n",
    "\n",
    "# Customização\n",
    "plt.title(\"TAXA DE CHURN NO PERÍODO - TELECOM X\", fontsize = 14, pad = 15)\n",
    "plt.ylabel(\"Número de Clientes\", fontsize = 11)\n",
    "plt.grid(axis = \"y\", linestyle = \":\", alpha = 0.4)\n",
    "sns.despine()\n",
    "\n",
    "# Adiciona valores nas barras\n",
    "for bar in bars:\n",
    "    height  =  bar.get_height()\n",
    "    plt.text(\n",
    "        bar.get_x() + bar.get_width() / 2.,\n",
    "        height,\n",
    "        f\"{height:,}\".replace(\",\", \".\"),\n",
    "        ha = \"center\",\n",
    "        va = \"bottom\",\n",
    "        fontsize = 11\n",
    "    )\n",
    "\n",
    "# Salvar gráfico como PNG.\n",
    "caminho_grafico = Path(\"..\") / \"reports\" / \"churn_taxa_periodo.png\"\n",
    "caminho_grafico.parent.mkdir(parents=True, exist_ok=True)\n",
    "plt.savefig(caminho_grafico, dpi=300, bbox_inches=\"tight\")\n",
    "\n",
    "plt.show()"
   ]
  },
  {
   "cell_type": "markdown",
   "metadata": {
    "id": "_1WHZMQZbAH6"
   },
   "source": [
    "### 3.2 - Tempo de Permanência Clientes Churn."
   ]
  },
  {
   "cell_type": "code",
   "execution_count": null,
   "metadata": {
    "colab": {
     "base_uri": "https://localhost:8080/",
     "height": 582
    },
    "id": "bB4vs5SUbWt_",
    "outputId": "1e412adb-6e50-4f54-abf7-04017aeb683c"
   },
   "outputs": [],
   "source": [
    "# Configuração inicial.\n",
    "plt.figure(figsize = (12, 6))\n",
    "\n",
    "# Histograma + KDE\n",
    "sns.histplot(\n",
    "    data = dados_final,\n",
    "    x = \"tenure_months\",\n",
    "    hue = \"target_churn\",\n",
    "    bins = 24,\n",
    "    palette = {0: \"#2ecc71\", 1: \"#e74c3c\"},\n",
    "    kde = True,\n",
    "    alpha = 0.7,\n",
    "    multiple = \"stack\"\n",
    ")\n",
    "\n",
    "# Linhas críticas\n",
    "plt.axvline(x = 6, color = \"gray\", linestyle = \":\", label = \"6 meses (pico de Churn)\")\n",
    "plt.axvline(x = 12, color = \"black\", linestyle = \"--\", label = \"1 ano (estabilização)\")\n",
    "\n",
    "# Customização\n",
    "plt.title(\"DISTRIBUIÇÃO DO CHURN POR TEMPO DE PERMANÊNCIA\", fontsize = 14, pad = 15)\n",
    "plt.xlabel(\"Meses de Permanência\", fontsize = 11)\n",
    "plt.ylabel(\"Número de Clientes\", fontsize = 11)\n",
    "plt.legend(title = \"Churn\", labels = [\"Não\", \"Sim\", \"6 meses\", \"1 ano\"])\n",
    "plt.grid(axis = \"y\", linestyle = \":\", alpha = 0.4)\n",
    "sns.despine()\n",
    "\n",
    "# Destaque estatístico\n",
    "plt.annotate(\n",
    "    f\"55.5% dos cancelamentos ocorrem\\nnos primeiros 12 meses\",\n",
    "    xy = (12, dados_final[dados_final[\"tenure_months\"] <= 12][\"target_churn\"].sum() * 0.5),\n",
    "    xytext = (20, 40),\n",
    "    textcoords = \"offset points\",\n",
    "    fontsize = 10,\n",
    "    ha = \"left\",\n",
    "    va = \"center\"\n",
    ")\n",
    "\n",
    "# Salvar gráfico como PNG.\n",
    "caminho_grafico = Path(\"..\") / \"reports\" / \"churn_tempo_permanencia.png\"\n",
    "caminho_grafico.parent.mkdir(parents=True, exist_ok=True)\n",
    "plt.savefig(caminho_grafico, dpi=300, bbox_inches=\"tight\")\n",
    "\n",
    "plt.show();"
   ]
  },
  {
   "cell_type": "code",
   "execution_count": null,
   "metadata": {
    "colab": {
     "base_uri": "https://localhost:8080/"
    },
    "id": "oY1Y8TeDgTpU",
    "outputId": "cb3a33a3-57cb-4e6c-a40a-bef2dea7cba5"
   },
   "outputs": [],
   "source": [
    "# Memória de cálculo para cancelamento nos primeiros 12 meses.\n",
    "# 1. Filtra clientes com tenure <= 12 meses\n",
    "clientes_ate_12_meses = dados_final[dados_final[\"tenure_months\"] <= 12]\n",
    "\n",
    "# 2. Soma os casos de Churn nesse grupo\n",
    "total_churn_12m = clientes_ate_12_meses[\"target_churn\"].sum()\n",
    "\n",
    "# 3. Calcula a porcentagem em relação ao Churn total\n",
    "porcentagem = (total_churn_12m / dados_final[\"target_churn\"].sum()) * 100\n",
    "\n",
    "# Resultado:\n",
    "print(f\"Churn total: {dados_final['target_churn'].sum()} clientes\")\n",
    "print(f\"Churn em contratos <=12 meses: {total_churn_12m} clientes ({porcentagem:.1f}%)\")"
   ]
  },
  {
   "cell_type": "markdown",
   "metadata": {
    "id": "1ALuXrRdhNYU"
   },
   "source": [
    "### 3.3 - Clientes Churn versus Tipo de Contrato."
   ]
  },
  {
   "cell_type": "code",
   "execution_count": null,
   "metadata": {
    "colab": {
     "base_uri": "https://localhost:8080/",
     "height": 580
    },
    "id": "8KPQJOHlhMWZ",
    "outputId": "1399ca52-1b7f-4a8c-97ea-38f72421880d"
   },
   "outputs": [],
   "source": [
    "# Configurações iniciais\n",
    "plt.figure(figsize=(10, 6))\n",
    "\n",
    "# Pré-agrega os dados para evitar divisão por zero\n",
    "dados_agg = (dados_final.groupby('contract_term_months')['target_churn']\n",
    "             .apply(lambda x: sum(x)/len(x)*100 if len(x) > 0 else 0)\n",
    "             .reset_index())\n",
    "\n",
    "# Plot com as posições originais mantidas\n",
    "ax = sns.barplot(\n",
    "    data=dados_agg,\n",
    "    x=\"contract_term_months\",\n",
    "    y=\"target_churn\",\n",
    "    palette=[\"#ff6b6b\", \"#ffd166\", \"#06d6a0\"],\n",
    "    hue=\"contract_term_months\",\n",
    "    errorbar=None,\n",
    "    dodge=False  # Mantém as barras alinhadas\n",
    ")\n",
    "\n",
    "plt.gca().legend_.remove()\n",
    "\n",
    "# Anotações\n",
    "for p in ax.patches:\n",
    "    if p.get_height() > 0:\n",
    "        ax.annotate(\n",
    "            f\"{p.get_height():.1f}%\",\n",
    "            (p.get_x() + p.get_width() / 2., p.get_height()),\n",
    "            ha=\"center\",\n",
    "            va=\"center\",\n",
    "            xytext=(0, 10),\n",
    "            textcoords=\"offset points\",\n",
    "            fontsize=11,\n",
    "            fontweight=\"bold\"\n",
    "        )\n",
    "\n",
    "# Destaque (ajuste as coordenadas conforme necessário)\n",
    "ax.annotate(\n",
    "    \"Churn 15× maior\\nem contratos mensais:\\n (42,7% / 2,8%).\",\n",
    "    xy=(0, 40),\n",
    "    xytext=(0.5, 50),\n",
    "    fontsize=10,\n",
    "    ha=\"center\"\n",
    ")\n",
    "\n",
    "# Customização\n",
    "plt.title(\"TAXA DE CHURN POR TIPO DE CONTRATO\", fontsize=14, pad=15)\n",
    "plt.xlabel(\"Tipo de Contrato\", fontsize=11)\n",
    "plt.xticks(\n",
    "    ticks=[0, 1, 2],\n",
    "    labels=[\"Mensal\", \"Anual\", \"Bienal\"],\n",
    "    fontsize=11\n",
    ")\n",
    "plt.ylabel(\"Taxa de Churn (%)\", fontsize=11)\n",
    "plt.ylim(0, 60)\n",
    "sns.despine()\n",
    "plt.grid(axis=\"y\", linestyle=\":\", alpha=0.3)\n",
    "\n",
    "# Salvar\n",
    "caminho_grafico = Path(\"..\") / \"reports\" / \"churn_tipo_contrato.png\"\n",
    "caminho_grafico.parent.mkdir(parents=True, exist_ok=True)\n",
    "plt.savefig(caminho_grafico, dpi=300, bbox_inches=\"tight\")\n",
    "\n",
    "\n",
    "plt.show();\n"
   ]
  },
  {
   "cell_type": "markdown",
   "metadata": {
    "id": "zfrtkjNI111m"
   },
   "source": [
    "### 3.4 - Clientes Churn Mensal por Método de Pagamento."
   ]
  },
  {
   "cell_type": "code",
   "execution_count": null,
   "metadata": {
    "colab": {
     "base_uri": "https://localhost:8080/",
     "height": 465
    },
    "id": "-d-n3VjsbH20",
    "outputId": "2433917e-b630-4bd1-d737-f7d5b826a888"
   },
   "outputs": [],
   "source": [
    "# Filtrar Churn mensal e calcular distribuição\n",
    "churn_mensal = dados_final[(dados_final[\"contract_term_months\"]  ==  0) & (dados_final[\"target_churn\"]  ==  1)]\n",
    "contagem = churn_mensal[\"payment_method_type\"].value_counts().sort_values(ascending = False)\n",
    "porcentagens = (contagem / len(churn_mensal)) * 100\n",
    "\n",
    "# Mapear códigos para labels\n",
    "labels = {\n",
    "    0: \"Cheque via Correio\",\n",
    "    1: \"Cheque Eletrônico\",\n",
    "    2: \"Débito em Conta\",\n",
    "    3: \"Cartão de Crédito\"\n",
    "}\n",
    "\n",
    "# Cores com destaque para métodos de risco\n",
    "cores = [\"#e74c3c\" if metodo in [0, 1] else \"#3498db\" for metodo in porcentagens.index]\n",
    "\n",
    "# Plot\n",
    "plt.figure(figsize = (10, 4))\n",
    "bars = plt.barh(\n",
    "    [labels[i] for i in porcentagens.index],\n",
    "    porcentagens,\n",
    "    color = cores,\n",
    "    alpha = 0.8\n",
    ")\n",
    "\n",
    "# Anotações\n",
    "for bar in bars:\n",
    "    width = bar.get_width()\n",
    "    plt.text(\n",
    "        width + 1,\n",
    "        bar.get_y() + bar.get_height()/2,\n",
    "        f\"{width:.1f}%\",\n",
    "        ha = \"left\",\n",
    "        va = \"center\",\n",
    "        fontsize = 10\n",
    "    )\n",
    "\n",
    "# Destaque de risco\n",
    "plt.annotate(\n",
    "    \"Métodos com maior potencial\\nde inadimplência\",\n",
    "    xy = (porcentagens.iloc[1] + 5, 0.5),\n",
    "    xytext = (50, 5),\n",
    "    textcoords = \"offset points\",\n",
    "    fontsize = 9,\n",
    "    color = \"#e74c3c\"\n",
    ")\n",
    "\n",
    "plt.figtext(\n",
    "    0.5, -0.1,\n",
    "    \"Nota: Análise restrita aos clientes com plano mensal (código 0) que deram Churn.\",\n",
    "    ha=\"center\",\n",
    "    fontsize=10,\n",
    "    color=\"#666666\"\n",
    ")\n",
    "plt.subplots_adjust(bottom=0.2)\n",
    "\n",
    "# Customização\n",
    "plt.title(\"COMPOSIÇÃO DO CHURN (CLIENTES MENSALISTAS) POR MÉTODO DE PAGAMENTO\", fontsize = 12, pad = 12)\n",
    "plt.xlabel(\"% do Total de Churn Clientes Mensalistas\", fontsize = 10)\n",
    "plt.xlim(0, porcentagens.max() * 1.3)\n",
    "sns.despine(left = True)\n",
    "plt.grid(axis = \"x\", linestyle = \":\", alpha = 0.3)\n",
    "plt.tight_layout()\n",
    "\n",
    "# Salvar\n",
    "caminho_grafico = Path(\"..\") / \"reports\" / \"churn_mes_tp_pgto.png\"\n",
    "caminho_grafico.parent.mkdir(parents=True, exist_ok=True)\n",
    "plt.savefig(caminho_grafico, dpi=300, bbox_inches=\"tight\")\n",
    "\n",
    "plt.show()"
   ]
  },
  {
   "cell_type": "markdown",
   "metadata": {
    "id": "mGx1X7Ugv3sz"
   },
   "source": [
    "#### Nota Referente ao Total de Churn da Telecom X.\n",
    "\n",
    "  \"O **Cheque Eletrônico** representa **57,3% de TODOS os cancelamentos** da base analisada, sendo que **92,8% desses casos** são de clientes com contratos mensais – um risco operacional evitável com migração para pagamentos automáticos.\"\n",
    "\n",
    "***Método de Cálculo***  \n",
    "- `Nota 1`: (Churn_Eletrônico_Total / Churn_Total) × 100  \n",
    "- `Nota 2`: (Churn_Eletrônico_Mensalistas / Churn_Mensalistas_Total) × 100  \n"
   ]
  },
  {
   "cell_type": "code",
   "execution_count": null,
   "metadata": {
    "colab": {
     "base_uri": "https://localhost:8080/"
    },
    "id": "5YSaawHewxDI",
    "outputId": "4021d421-042f-4666-eb1b-75c3702e0926"
   },
   "outputs": [],
   "source": [
    "# Total de Churn na base\n",
    "total_churn = dados_final[\"target_churn\"].sum()\n",
    "\n",
    "# Churn com pgto. via Cheque Eletrônico (código 1)\n",
    "churn_eletronico_total = dados_final[(dados_final[\"payment_method_type\"] == 1) &\n",
    "                                   (dados_final[\"target_churn\"] == 1)].shape[0]\n",
    "\n",
    "# Percentual do Churn total pago com Cheque Eletrônico\n",
    "percentual_total = (churn_eletronico_total / total_churn) * 100\n",
    "\n",
    "# Dentro do Churn Eletrônico, quantos são mensais (código 0)\n",
    "churn_eletronico_mensal = dados_final[(dados_final[\"payment_method_type\"] == 1) &\n",
    "                                     (dados_final[\"target_churn\"] == 1) &\n",
    "                                     (dados_final[\"contract_term_months\"] == 0)].shape[0]\n",
    "\n",
    "percentual_mensal_no_eletronico = (churn_eletronico_mensal / churn_eletronico_total) * 100\n",
    "\n",
    "print(\n",
    "    f\"IMPACTO DO CHEQUE ELETRÔNICO NO CHURN TOTAL:\\n\"\n",
    "    f\"Total de cancelamentos: {total_churn} clientes\\n\"\n",
    "    f\"Cancelamentos Pgto. c/ Cheque Eletrônico: {churn_eletronico_total} ({percentual_total:.1f}% do total)\\n\"\n",
    "    f\"Desses, {churn_eletronico_mensal} são de contratos mensais ({percentual_mensal_no_eletronico:.1f}% do Churn Eletrônico)\"\n",
    ")\n"
   ]
  },
  {
   "cell_type": "markdown",
   "metadata": {
    "id": "JZOxsUoQ4Uvn"
   },
   "source": [
    "### 3.5 - Comparação Daily Charges para Churn e Não Churn."
   ]
  },
  {
   "cell_type": "code",
   "execution_count": null,
   "metadata": {
    "colab": {
     "base_uri": "https://localhost:8080/",
     "height": 547
    },
    "id": "wN5-iu2K8Gzf",
    "outputId": "ace41e89-7033-4d81-93a2-ee1ab63fc3b8"
   },
   "outputs": [],
   "source": [
    "# Configurações Iniciais\n",
    "plt.figure(figsize=(10, 6))\n",
    "ax = sns.boxplot(\n",
    "    data=dados_final,\n",
    "    x=\"target_churn\",\n",
    "    y=\"daily_charges\",\n",
    "    palette={0: \"#2ecc71\", 1: \"#e74c3c\"},\n",
    "    #hue=\"target_churn\",\n",
    "    showfliers=False  # Remove outliers para melhor visualização\n",
    ")\n",
    "\n",
    "# Remove a legenda duplicada manualmente\n",
    "# ax.legend_remove()  # Esta é a forma correta de remover a legenda no Seaborn\n",
    "\n",
    "# Personalização adicional\n",
    "plt.title(\"DISTRIBUIÇÃO DE CUSTO DIÁRIO POR STATUS DE CHURN\", fontsize=14, pad=15)\n",
    "plt.xlabel(\"Status do Cliente\", fontsize=11)\n",
    "plt.ylabel(\"Custo Diário ($)\", fontsize=11)\n",
    "plt.xticks([0, 1], [\"Clientes Ativos\", \"Clientes que Cancelaram\"])  # Rótulos mais descritivos\n",
    "sns.despine()\n",
    "plt.grid(axis='y', linestyle=':', alpha=0.3)\n",
    "\n",
    "# Nota de rodapé crítica\n",
    "plt.figtext(\n",
    "    0.5, -0.05,\n",
    "    \"Nota 1: Não há informação se contratos mensais têm acréscimo por cancelamento.\\n\"\n",
    "    \"Nota 2: 'Churn' pode incluir encerramentos naturais de contratos mensais (sem renovação).\",\n",
    "    ha = \"center\",\n",
    "    fontsize = 9,\n",
    "    color = \"#666666\",\n",
    "    style = \"italic\"\n",
    ")\n",
    "\n",
    "# Salvar o gráfico\n",
    "caminho_grafico = Path(\"..\") / \"reports\" / \"custo_dia_status.png\"\n",
    "caminho_grafico.parent.mkdir(parents=True, exist_ok=True)\n",
    "plt.savefig(caminho_grafico, dpi=300, bbox_inches=\"tight\")\n",
    "\n",
    "plt.show()"
   ]
  },
  {
   "cell_type": "code",
   "execution_count": null,
   "metadata": {
    "colab": {
     "base_uri": "https://localhost:8080/"
    },
    "id": "Vl4fF4grz-CP",
    "outputId": "b5657f94-6167-44c3-810e-555cf128a4dd"
   },
   "outputs": [],
   "source": [
    "# Estatísticas descritivas por status de Churn\n",
    "desc_stats = dados_final.groupby(\"target_churn\")[\"daily_charges\"].describe()\n",
    "print(desc_stats.to_markdown())"
   ]
  },
  {
   "cell_type": "markdown",
   "metadata": {
    "id": "sADwO1Tc018d"
   },
   "source": [
    "Principais Estatísticas / Insights:\n",
    "\n",
    "| Métrica       | Não-Churn (0) | Churn (1) | Diferença | Significado                               |\n",
    "|---------------|--------------:|----------:|----------:|-------------------------------------------|\n",
    "| **Média**     |         R\\$ 2.04 |    R\\$ 2.48 |    +21.6% | Clientes que cancelam pagam **mais**.       |\n",
    "| **Mediana**   |         R\\$ 2.15 |    R\\$ 2.66 |    +23.7% | Distribuição assimétrica à direita.         |\n",
    "| **75º Perc.** |         R\\$ 2.95 |    R\\$ 3.14 |     +6.4% | Top 25% do Churn paga significativamente mais. |"
   ]
  },
  {
   "cell_type": "markdown",
   "metadata": {
    "id": "Cxq54AfSaL3X"
   },
   "source": [
    "# 4. Relatório do Projeto\n"
   ]
  },
  {
   "cell_type": "markdown",
   "metadata": {
    "id": "SbAkRNjxay1u"
   },
   "source": [
    "## 4.1 Objetivo: Investigar o CHURN DE CLIENTES\n",
    "Para isso, a empresa nos disponibilizou o arquivo \"TelecomX_Data.json\", com dados de clientes em um determinado período."
   ]
  },
  {
   "cell_type": "markdown",
   "metadata": {
    "id": "kQuBp_71fNmB"
   },
   "source": [
    "## 4.2 Buscar, tratar e realizar uma análise exploratoria dos dados de cliente."
   ]
  },
  {
   "cell_type": "markdown",
   "metadata": {
    "id": "4SOcPhr9b1Qq"
   },
   "source": [
    "### 4.2.1 Carregar a base de dados.\n",
    "A) Dados carregados através de referenciamento ao endereço fornecido no GitHub.\n",
    "\n",
    "B) Verificou-se que os dados estavam com as variáveis aninhadas.\n",
    "\n",
    "C) Realizada a normalização da base de dados.\n"
   ]
  },
  {
   "cell_type": "markdown",
   "metadata": {
    "id": "Ys2uJPNpcb-0"
   },
   "source": [
    "### 4.2.2 Análise Exploratória Inicial\n",
    "Atividades realizadas na exploração inicial:\n",
    "* verificação de valores nulos;\n",
    "* verificação de valores em branco ou vazios;\n",
    "* verificação de campos com espaços adicionais;\n",
    "* verificação de outras situações que podem gerar \"erros\" (duplicados, inconsistências).\n",
    "\n",
    "Feitas as correções das inconsistências identificadas."
   ]
  },
  {
   "cell_type": "markdown",
   "metadata": {
    "id": "kXlFEskrdbDP"
   },
   "source": [
    "### 4.2.3 Dicionário de Dados\n",
    "Incorporado ao Jupyter Notebook o dicionário de dados original fornecido pela empresa, para facilitar a compreensão das variáveis.\n"
   ]
  },
  {
   "cell_type": "markdown",
   "metadata": {
    "id": "tub4MLzoeUIU"
   },
   "source": [
    "### 4.2.4 Inclusão da coluna Charges Daily.\n",
    "Foi feita a inclusão da coluna Charges Daily, como solicitada no escopo do projeto.\n",
    "\n",
    "*Critério utilizado:* (Charges_Monthly / 30)\n",
    "\n",
    "O uso da coluna Charges_Total pode trazer distorções para os contratos Long Term, já que carregam a somatória de todo o período do contrato, com possíveis situações diferenciadas do período atual em análise.\n"
   ]
  },
  {
   "cell_type": "markdown",
   "metadata": {
    "id": "DE1Ry9_Sf3Rx"
   },
   "source": [
    "## 4.3 Padronização e Transformação dos Dados.\n",
    "Realizada transformação das variáveis conforme descrito abaixo, renomeação das variáveis e atualização do dicionário de dados.\n",
    "\n",
    "*Critério:* padrão utilizado para algoritmos de Machine Learning.\n",
    "\n",
    "* 1 - Transformação das colunas binárias.\n",
    "* 2 - Transformação das colunas terciárias.\n",
    "* 3 - Transformação das colunas com mais de 3 informações.\n",
    "* 4 - Alteração do nome das colunas (variáveis) - snake case.\n",
    "* 5 - Atualização do dicionário de dados."
   ]
  },
  {
   "cell_type": "markdown",
   "metadata": {
    "id": "v1HAvTM_yh9V"
   },
   "source": [
    "## 4.4 Visualizações para Analisar os Dados\n",
    "Gerar gráficos para analisar os dados de clientes, e obter insights para os stackholders tomarem decisões sobre as situações identificadas."
   ]
  },
  {
   "cell_type": "markdown",
   "metadata": {
    "id": "UtE1X67vymtj"
   },
   "source": [
    "### 4.4.1 Taxa Geral de Churn da Telecom X.\n",
    "Calculada em 26,6% sobre a base de clientes analisada.\n",
    "\n",
    "<img src=\"../notebooks/churn_taxa_periodo.png\" alt=\"Taxa de Churn\" width=\"800\">"
   ]
  },
  {
   "cell_type": "markdown",
   "metadata": {
    "id": "wgpfDrPjyzGG"
   },
   "source": [
    "### 4.4.2 Distribuição do Churn por Tempo de Permanência na Cia.\n",
    "Verificou-se que 55.5% dos cancelamentos ocorrem nos primeiros 12 meses.\n",
    "\n",
    "<img src=\"../notebooks/churn_tempo_permanencia.png\" alt=\"Churn por Tempo de Permanência\" width=\"800\">"
   ]
  },
  {
   "cell_type": "markdown",
   "metadata": {
    "id": "Ly_tXTXby6IU"
   },
   "source": [
    "### 4.4.3 Clientes que Deram Churn versus Tipo de Contrato.\n",
    "Verificou-se que o Churn é 15x maior em contratos mensais: (42,7% / 2,8%) = 15,25.\n",
    "\n",
    "<img src=\"../notebooks/churn_tipo_contrato.png\" alt=\"Churn por Tipo de Contrato\" width=\"800\">"
   ]
  },
  {
   "cell_type": "markdown",
   "metadata": {
    "id": "hQtA7VxmzAOs"
   },
   "source": [
    "### 4.4.4 Clientes Churn Mensal por Método de Pagamento.\n",
    "Análise restrita apenas aos clientes mensalistas, foi constatado que 77% dos clientes desta categoria utilizam cheque ou cheque eletrônico como forma de pagamento, que são os **métodos com maior potencial de inadimplência**.\n",
    "\n",
    "O **Cheque Eletrônico** representa **57,3% de TODOS os cancelamentos** da base analisada, sendo que **92,8% desses casos** são de clientes com contratos mensais – um risco operacional evitável com migração para pagamentos automáticos.\"\n",
    "\n",
    "<img src=\"../notebooks/churn_mes_tp_pgto.png\" alt=\"Churn por Forma de Pagamento\" width=\"800\">"
   ]
  },
  {
   "cell_type": "markdown",
   "metadata": {
    "id": "5z7qOY98gLoO"
   },
   "source": [
    "\n",
    "\n",
    "\n",
    "\n",
    "### 4.4.5 Comparação Valor Diário para Churn e Não Churn.\n",
    "A comparação visual demonstra que os clientes Churn pagam valores diários maiores que os clientes que permanecem na cia.\n",
    "\n",
    "| Métrica       | Não-Churn (0) | Churn (1) | Diferença | Significado                               |\n",
    "|---------------|--------------:|----------:|----------:|-------------------------------------------|\n",
    "| **Média**     |         R\\$ 2.04 |    R\\$ 2.48 |    +21.6% | Clientes que cancelam pagam **mais**.       |\n",
    "| **Mediana**   |         R\\$ 2.15 |    R\\$ 2.66 |    +23.7% | Distribuição assimétrica à direita.         |\n",
    "| **75º Perc.** |         R\\$ 2.95 |    R\\$ 3.14 |     +6.4% | Top 25% do Churn paga significativamente mais. |\n",
    "\n",
    "<img src=\"../notebooks/custo_dia_status.png\" alt=\"Custo Diário por Status de Churn\" width=\"600\">"
   ]
  },
  {
   "cell_type": "markdown",
   "metadata": {
    "id": "6ClRlVeZh654"
   },
   "source": [
    "# 5. CONCLUSÃO\n",
    "Após todas as etapas descritas anteriormente, foi gerado um arquivo de dados limpo e transformado (`\"dados_final.csv\"`) para que as pessoas analistas de dados possam aplicar o algoritmo de Machine Learning mais apropriado para esta situação.\n",
    "\n",
    "Outros insights podem ser gerados a partir da base de dados fornecida, mas diante da relevância da situação de churn nos contratos do tipo mensal, recomenda-se uma ação para corrigir as distorções apresentadas, ou pelo menos colher mais informações para mehor esclarecer a frequência das ocorrências de churn nessa categoria de contratos."
   ]
  }
 ],
 "metadata": {
  "colab": {
   "provenance": [],
   "toc_visible": true
  },
  "kernelspec": {
   "display_name": "Python 3 (ipykernel)",
   "language": "python",
   "name": "python3"
  },
  "language_info": {
   "codemirror_mode": {
    "name": "ipython",
    "version": 3
   },
   "file_extension": ".py",
   "mimetype": "text/x-python",
   "name": "python",
   "nbconvert_exporter": "python",
   "pygments_lexer": "ipython3",
   "version": "3.9.13"
  },
  "toc-showtags": false
 },
 "nbformat": 4,
 "nbformat_minor": 4
}
